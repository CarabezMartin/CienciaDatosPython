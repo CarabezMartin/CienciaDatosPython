{
 "cells": [
  {
   "cell_type": "code",
   "execution_count": 9,
   "id": "42232d9c-0a46-493e-9108-901516ad805a",
   "metadata": {},
   "outputs": [],
   "source": [
    "#Sentencia If\n",
    "nac= 2000\n",
    "if 2024 - nac > 25:\n",
    "    print(\"Posible Cliente\")"
   ]
  },
  {
   "cell_type": "code",
   "execution_count": 13,
   "id": "8eda0d9e-f40c-4f91-88d3-3e810bee7b85",
   "metadata": {},
   "outputs": [
    {
     "name": "stdout",
     "output_type": "stream",
     "text": [
      "No posible cliente\n"
     ]
    }
   ],
   "source": [
    "#Sentencia If Else\n",
    "if 2024 - nac > 25:\n",
    "    print(\"Posible Cliente\")\n",
    "else:\n",
    "    print(\"No posible cliente\")"
   ]
  },
  {
   "cell_type": "code",
   "execution_count": 23,
   "id": "a435b185-df2a-4541-b7f6-0b4dad5b2763",
   "metadata": {},
   "outputs": [
    {
     "name": "stdout",
     "output_type": "stream",
     "text": [
      "Niño\n"
     ]
    }
   ],
   "source": [
    "#Ejercicio de repaso\n",
    "edad = 17\n",
    "if edad >= 60:\n",
    "    print(\"Adulto mayor\")\n",
    "elif edad >= 27:\n",
    "    print(\"Adulto\")\n",
    "elif edad >= 18:\n",
    "    print(\"Joven\")\n",
    "else:\n",
    "    print(\"Niño\")\n"
   ]
  },
  {
   "cell_type": "code",
   "execution_count": 15,
   "id": "c79cebb0-370a-4737-af42-faa5b599875f",
   "metadata": {},
   "outputs": [
    {
     "name": "stdout",
     "output_type": "stream",
     "text": [
      "1\n",
      "2\n",
      "3\n",
      "4\n",
      "5\n",
      "6\n",
      "7\n",
      "8\n",
      "9\n",
      "10\n"
     ]
    }
   ],
   "source": [
    "#Sentencia WHILE\n",
    "x = 1\n",
    "while x <= 10:\n",
    "    print(x)\n",
    "    x = x + 1"
   ]
  },
  {
   "cell_type": "code",
   "execution_count": 17,
   "id": "3d5963bf-a8e3-4a00-bd1a-6421ac60f5b9",
   "metadata": {},
   "outputs": [
    {
     "name": "stdout",
     "output_type": "stream",
     "text": [
      "p, a, l, a, b, r, a, "
     ]
    }
   ],
   "source": [
    "#Sentencia FOR\n",
    "for ch in \"palabra\":\n",
    "    print(ch,end = \", \")"
   ]
  },
  {
   "cell_type": "code",
   "execution_count": 23,
   "id": "d9e69fbd-bf6d-40a9-bc99-5817df58cb37",
   "metadata": {},
   "outputs": [
    {
     "name": "stdout",
     "output_type": "stream",
     "text": [
      "1\n",
      "2\n",
      "6\n",
      "24\n",
      "120\n"
     ]
    }
   ],
   "source": [
    "#Ejercicio Factorial\n",
    "numero = 5\n",
    "factorial = 1\n",
    "\n",
    "for i in range(1,numero + 1):\n",
    "    factorial = factorial * i\n",
    "    print(factorial)\n",
    "   "
   ]
  },
  {
   "cell_type": "code",
   "execution_count": 27,
   "id": "cec5bed9-a6e6-4408-9701-617c8bbef16d",
   "metadata": {},
   "outputs": [
    {
     "name": "stdout",
     "output_type": "stream",
     "text": [
      "0\n",
      "1\n",
      "2\n",
      "3\n",
      "4\n",
      "5\n",
      "6\n",
      "7\n",
      "8\n"
     ]
    }
   ],
   "source": [
    "for i in range(10):\n",
    "    if i <= 8:\n",
    "        print(i)\n",
    "    else:\n",
    "        break"
   ]
  },
  {
   "cell_type": "code",
   "execution_count": 1,
   "id": "566eadb3-d1b3-4f95-81e2-4dacc83bedb9",
   "metadata": {},
   "outputs": [
    {
     "name": "stdout",
     "output_type": "stream",
     "text": [
      "Si es cliente\n"
     ]
    }
   ],
   "source": [
    "#Operadores booleanos\n",
    "registromail = \"Si\"\n",
    "salarioMensual = 40000\n",
    "\n",
    "if registromail == \"Si\" and salarioMensual >= 40000:\n",
    "    print(\"Si es cliente\")\n",
    "else:\n",
    "    print(\"No es cliente\")"
   ]
  },
  {
   "cell_type": "code",
   "execution_count": 5,
   "id": "ddee668f-74b5-4201-9140-24d414f698ed",
   "metadata": {},
   "outputs": [
    {
     "name": "stdout",
     "output_type": "stream",
     "text": [
      "No es candidato\n"
     ]
    }
   ],
   "source": [
    "titulo = \"No\"\n",
    "exp = 2\n",
    "\n",
    "if titulo == \"Si\" or exp >= 4:\n",
    "    print(\"Si es candidato\")\n",
    "else:\n",
    "    print(\"No es candidato\")"
   ]
  },
  {
   "cell_type": "code",
   "execution_count": null,
   "id": "467bb70f-deaa-48dc-8397-881a6aaa1c18",
   "metadata": {},
   "outputs": [],
   "source": []
  }
 ],
 "metadata": {
  "kernelspec": {
   "display_name": "Python 3 (ipykernel)",
   "language": "python",
   "name": "python3"
  },
  "language_info": {
   "codemirror_mode": {
    "name": "ipython",
    "version": 3
   },
   "file_extension": ".py",
   "mimetype": "text/x-python",
   "name": "python",
   "nbconvert_exporter": "python",
   "pygments_lexer": "ipython3",
   "version": "3.12.7"
  }
 },
 "nbformat": 4,
 "nbformat_minor": 5
}
