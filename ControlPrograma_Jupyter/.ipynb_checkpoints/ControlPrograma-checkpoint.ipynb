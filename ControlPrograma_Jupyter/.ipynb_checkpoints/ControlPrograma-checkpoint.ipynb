{
 "cells": [
  {
   "cell_type": "code",
   "execution_count": 9,
   "id": "42232d9c-0a46-493e-9108-901516ad805a",
   "metadata": {},
   "outputs": [],
   "source": [
    "#Sentencia If\n",
    "nac= 2000\n",
    "if 2024 - nac > 25:\n",
    "    print(\"Posible Cliente\")"
   ]
  },
  {
   "cell_type": "code",
   "execution_count": 13,
   "id": "8eda0d9e-f40c-4f91-88d3-3e810bee7b85",
   "metadata": {},
   "outputs": [
    {
     "name": "stdout",
     "output_type": "stream",
     "text": [
      "No posible cliente\n"
     ]
    }
   ],
   "source": [
    "#Sentencia If Else\n",
    "if 2024 - nac > 25:\n",
    "    print(\"Posible Cliente\")\n",
    "else:\n",
    "    print(\"No posible cliente\")"
   ]
  },
  {
   "cell_type": "code",
   "execution_count": 23,
   "id": "a435b185-df2a-4541-b7f6-0b4dad5b2763",
   "metadata": {},
   "outputs": [
    {
     "name": "stdout",
     "output_type": "stream",
     "text": [
      "Niño\n"
     ]
    }
   ],
   "source": [
    "#Ejercicio de repaso\n",
    "edad = 17\n",
    "if edad >= 60:\n",
    "    print(\"Adulto mayor\")\n",
    "elif edad >= 27:\n",
    "    print(\"Adulto\")\n",
    "elif edad >= 18:\n",
    "    print(\"Joven\")\n",
    "else:\n",
    "    print(\"Niño\")\n"
   ]
  },
  {
   "cell_type": "code",
   "execution_count": null,
   "id": "c79cebb0-370a-4737-af42-faa5b599875f",
   "metadata": {},
   "outputs": [],
   "source": []
  }
 ],
 "metadata": {
  "kernelspec": {
   "display_name": "Python 3 (ipykernel)",
   "language": "python",
   "name": "python3"
  },
  "language_info": {
   "codemirror_mode": {
    "name": "ipython",
    "version": 3
   },
   "file_extension": ".py",
   "mimetype": "text/x-python",
   "name": "python",
   "nbconvert_exporter": "python",
   "pygments_lexer": "ipython3",
   "version": "3.12.7"
  }
 },
 "nbformat": 4,
 "nbformat_minor": 5
}
