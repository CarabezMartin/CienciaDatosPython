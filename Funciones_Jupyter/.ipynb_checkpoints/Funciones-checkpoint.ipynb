{
 "cells": [
  {
   "cell_type": "code",
   "execution_count": 10,
   "id": "2177e83a-7fb0-4dea-b6b7-127ee888c493",
   "metadata": {},
   "outputs": [
    {
     "data": {
      "text/plain": [
       "\u001b[1;31mSignature:\u001b[0m \u001b[0mraizCuadrada\u001b[0m\u001b[1;33m(\u001b[0m\u001b[0mnumero\u001b[0m\u001b[1;33m)\u001b[0m\u001b[1;33m\u001b[0m\u001b[1;33m\u001b[0m\u001b[0m\n",
       "\u001b[1;31mDocstring:\u001b[0m Esta funcion saca la raiz cuadrada de un numero\n",
       "\u001b[1;31mFile:\u001b[0m      c:\\users\\jorgeav\\appdata\\local\\temp\\ipykernel_21460\\411072045.py\n",
       "\u001b[1;31mType:\u001b[0m      function"
      ]
     },
     "metadata": {},
     "output_type": "display_data"
    }
   ],
   "source": [
    "#Definicion de funcion\n",
    "def raizCuadrada(numero):\n",
    "    \"\"\"Esta funcion saca la raiz cuadrada de un numero\"\"\"\n",
    "    return numero **(1/2)\n",
    "#Llamamos a la funcion\n",
    "raizCuadrada(100)\n",
    "#Con el signo de ?, nos da informacion de la funcion\n",
    "raizCuadrada?"
   ]
  },
  {
   "cell_type": "code",
   "execution_count": 14,
   "id": "baccb0bf-0c33-4b82-9c86-6a8b4f26f78f",
   "metadata": {},
   "outputs": [
    {
     "data": {
      "text/plain": [
       "10.0"
      ]
     },
     "execution_count": 14,
     "metadata": {},
     "output_type": "execute_result"
    }
   ],
   "source": [
    "#Funcion con multiples parametros\n",
    "def raizGrande(num1,num2,num3):\n",
    "    \"\"\"Esta funcion nos regresa la raiz mas grande de tres numeros\"\"\"\n",
    "    rnum1 = num1 ** (1/2)\n",
    "    rnum2 = num2 ** (1/2)\n",
    "    rnum3 = num3 ** (1/2)\n",
    "\n",
    "    raizMax = rnum1\n",
    "    if rnum2 > rnum1:\n",
    "        raixMax = rnum2\n",
    "    if rnum3 > raizMax:\n",
    "        raizMax = rnum3\n",
    "\n",
    "    return raizMax\n",
    "\n",
    "raizGrande(81,64,100)\n",
    "\n"
   ]
  },
  {
   "cell_type": "code",
   "execution_count": 16,
   "id": "26ac7ca2-9989-480f-bb91-24d5fddaa70f",
   "metadata": {},
   "outputs": [
    {
     "name": "stdout",
     "output_type": "stream",
     "text": [
      "1 0 0 0 1 1 1 0 0 0 "
     ]
    }
   ],
   "source": [
    "import random\n",
    "\n",
    "for tirada in range(10):\n",
    "    print(random.randrange(0,2),end = ' ')"
   ]
  },
  {
   "cell_type": "code",
   "execution_count": 28,
   "id": "ecc87ca9-d8c5-49fe-9158-3d1b654eb30e",
   "metadata": {},
   "outputs": [
    {
     "name": "stdout",
     "output_type": "stream",
     "text": [
      "Aguila:  49783\n",
      "Sello:  50217\n",
      "1 = Aguila, 0 = Sello    Frecuencia\n",
      "             1             49783\n",
      "             0             50217\n"
     ]
    }
   ],
   "source": [
    "contadorAguila = 0\n",
    "contadorSello = 0\n",
    "\n",
    "for tirada in range(100000):\n",
    "    resultado = random.randrange(0,2)\n",
    "    if resultado == 1:\n",
    "        contadorAguila += 1\n",
    "    else:\n",
    "        contadorSello += 1\n",
    "\n",
    "print(\"Aguila: \",contadorAguila)\n",
    "print(\"Sello: \",contadorSello)\n",
    "print(f'1 = Aguila, 0 = Sello {\"Frecuencia\":>13}')\n",
    "print(f'{1:>14}{contadorAguila:>18}')\n",
    "print(f'{0:>14}{contadorSello:>18}')"
   ]
  },
  {
   "cell_type": "code",
   "execution_count": 35,
   "id": "1e7de588-69fd-414e-9331-66f667fc8a30",
   "metadata": {},
   "outputs": [
    {
     "name": "stdout",
     "output_type": "stream",
     "text": [
      "Resultado de la jugada 1 + 5 = 6\n"
     ]
    }
   ],
   "source": [
    "import random\n",
    "\n",
    "def lanzarDados():\n",
    "    dado1 = random.randrange(1,7)\n",
    "    dado2 = random.randrange(1,7)\n",
    "    return(dado1,dado2)\n",
    "\n",
    "def resultadoDados(dado):\n",
    "    dado1,dado2 = dado\n",
    "    print(f'Resultado de la jugada {dado1} + {dado2} = {sum(dado)}')\n",
    "\n",
    "valores_logrados = lanzarDados()\n",
    "resultadoDados(valores_logrados)"
   ]
  },
  {
   "cell_type": "code",
   "execution_count": null,
   "id": "4d08ebe6-2b41-4769-94eb-769cde199450",
   "metadata": {},
   "outputs": [],
   "source": []
  }
 ],
 "metadata": {
  "kernelspec": {
   "display_name": "Python 3 (ipykernel)",
   "language": "python",
   "name": "python3"
  },
  "language_info": {
   "codemirror_mode": {
    "name": "ipython",
    "version": 3
   },
   "file_extension": ".py",
   "mimetype": "text/x-python",
   "name": "python",
   "nbconvert_exporter": "python",
   "pygments_lexer": "ipython3",
   "version": "3.12.7"
  }
 },
 "nbformat": 4,
 "nbformat_minor": 5
}
